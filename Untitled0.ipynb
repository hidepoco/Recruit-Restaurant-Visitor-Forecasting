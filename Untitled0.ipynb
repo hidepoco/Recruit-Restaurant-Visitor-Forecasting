{
  "nbformat": 4,
  "nbformat_minor": 0,
  "metadata": {
    "colab": {
      "name": "Untitled0.ipynb",
      "provenance": [],
      "mount_file_id": "17QNtNEunftDMxAM-3ttL_gTD7kLAnc1S",
      "authorship_tag": "ABX9TyOxSdtVV83zVPpuOmsxdTdJ",
      "include_colab_link": true
    },
    "kernelspec": {
      "name": "python3",
      "display_name": "Python 3"
    },
    "language_info": {
      "name": "python"
    }
  },
  "cells": [
    {
      "cell_type": "markdown",
      "metadata": {
        "id": "view-in-github",
        "colab_type": "text"
      },
      "source": [
        "<a href=\"https://colab.research.google.com/github/hidepoco/Recruit-Restaurant-Visitor-Forecasting/blob/main/Untitled0.ipynb\" target=\"_parent\"><img src=\"https://colab.research.google.com/assets/colab-badge.svg\" alt=\"Open In Colab\"/></a>"
      ]
    },
    {
      "cell_type": "code",
      "metadata": {
        "id": "04BJoKCbeAN_"
      },
      "source": [
        "# パーセプトロンの実装\n",
        "def AND(x1, x2):\n",
        "  w1, w2, theta = 0.5, 0.5, 0.7\n",
        "  tmp = x1*w1 + x2*w2\n",
        "  if tmp <= theta:\n",
        "    return 0\n",
        "  elif tmp > theta:\n",
        "    return 1"
      ],
      "execution_count": 1,
      "outputs": []
    },
    {
      "cell_type": "code",
      "metadata": {
        "colab": {
          "base_uri": "https://localhost:8080/"
        },
        "id": "xMkzMxLlfEJC",
        "outputId": "0740ca5b-98ba-4695-8e74-5edb4e2685fa"
      },
      "source": [
        "AND(0,0)"
      ],
      "execution_count": 2,
      "outputs": [
        {
          "output_type": "execute_result",
          "data": {
            "text/plain": [
              "0"
            ]
          },
          "metadata": {},
          "execution_count": 2
        }
      ]
    },
    {
      "cell_type": "code",
      "metadata": {
        "colab": {
          "base_uri": "https://localhost:8080/"
        },
        "id": "tvMgeSqxfGIa",
        "outputId": "6e8b8cf9-8e0d-468f-a123-fe8c7c81371b"
      },
      "source": [
        "import numpy as np\n",
        "x = np.array([-1.0, 1.0, 2.0])\n",
        "x\n"
      ],
      "execution_count": 3,
      "outputs": [
        {
          "output_type": "execute_result",
          "data": {
            "text/plain": [
              "array([-1.,  1.,  2.])"
            ]
          },
          "metadata": {},
          "execution_count": 3
        }
      ]
    },
    {
      "cell_type": "code",
      "metadata": {
        "colab": {
          "base_uri": "https://localhost:8080/"
        },
        "id": "lwpoUVWMmhpN",
        "outputId": "d40000d4-08f6-459f-a491-54b2c0363585"
      },
      "source": [
        "y = x > 0\n",
        "y"
      ],
      "execution_count": 4,
      "outputs": [
        {
          "output_type": "execute_result",
          "data": {
            "text/plain": [
              "array([False,  True,  True])"
            ]
          },
          "metadata": {},
          "execution_count": 4
        }
      ]
    },
    {
      "cell_type": "code",
      "metadata": {
        "colab": {
          "base_uri": "https://localhost:8080/"
        },
        "id": "oEzajKy7mlTy",
        "outputId": "6c40b047-fc7b-4340-f39f-05f45d818bbf"
      },
      "source": [
        "!git clone https://github.com/pytorch/examples.git"
      ],
      "execution_count": 5,
      "outputs": [
        {
          "output_type": "stream",
          "name": "stdout",
          "text": [
            "Cloning into 'examples'...\n",
            "remote: Enumerating objects: 2876, done.\u001b[K\n",
            "remote: Counting objects: 100% (13/13), done.\u001b[K\n",
            "remote: Compressing objects: 100% (12/12), done.\u001b[K\n",
            "remote: Total 2876 (delta 3), reused 6 (delta 1), pack-reused 2863\u001b[K\n",
            "Receiving objects: 100% (2876/2876), 39.18 MiB | 18.57 MiB/s, done.\n",
            "Resolving deltas: 100% (1440/1440), done.\n"
          ]
        }
      ]
    },
    {
      "cell_type": "code",
      "metadata": {
        "id": "pcvT9MsOV4p9"
      },
      "source": [
        ""
      ],
      "execution_count": null,
      "outputs": []
    }
  ]
}